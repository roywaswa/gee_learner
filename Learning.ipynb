{
 "nbformat": 4,
 "nbformat_minor": 0,
 "metadata": {
  "colab": {
   "provenance": [],
   "toc_visible": true,
   "authorship_tag": "ABX9TyOFNkG+JzClvCtl5CeiO9Qs",
   "include_colab_link": true
  },
  "kernelspec": {
   "name": "python3",
   "display_name": "Python 3"
  },
  "language_info": {
   "name": "python"
  }
 },
 "cells": [
  {
   "cell_type": "markdown",
   "metadata": {
    "id": "view-in-github",
    "colab_type": "text"
   },
   "source": [
    "<a href=\"https://colab.research.google.com/github/roywaswa/gee_learner/blob/main/Learning.ipynb\" target=\"_parent\"><img src=\"https://colab.research.google.com/assets/colab-badge.svg\" alt=\"Open In Colab\"/></a>"
   ]
  },
  {
   "cell_type": "markdown",
   "source": [
    "# **Getting Started**\n",
    "Getting started with the earth engine by importing it first\n",
    "then, authenticating and initializing the project."
   ],
   "metadata": {
    "id": "eGaSigamL0Wt"
   }
  },
  {
   "cell_type": "code",
   "execution_count": 1,
   "metadata": {
    "id": "SRT5Bx9EH082"
   },
   "outputs": [],
   "source": [
    "import ee"
   ]
  },
  {
   "cell_type": "code",
   "source": [
    "ee.Authenticate()\n",
    "ee.Initialize()"
   ],
   "metadata": {
    "colab": {
     "base_uri": "https://localhost:8080/"
    },
    "id": "23OQxfN3JXgE",
    "outputId": "05a64b8f-d905-4c06-bdf0-4845a3cbac9c"
   },
   "execution_count": 3,
   "outputs": [
    {
     "data": {
      "text/plain": "<IPython.core.display.HTML object>",
      "text/html": "<p>To authorize access needed by Earth Engine, open the following\n        URL in a web browser and follow the instructions:</p>\n        <p><a href=https://code.earthengine.google.com/client-auth?scopes=https%3A//www.googleapis.com/auth/earthengine%20https%3A//www.googleapis.com/auth/devstorage.full_control&request_id=yZDEgbPbm3XBtGD2QOXIBDjo3EJDRaa8KmH0PWtfrZQ&tc=eL2AmpmdefPtEQcjlJ3V16_QjkjyiAshFQHMqtS6TuA&cc=9ks-B43yIpwlx74L-HJPP9Z-JdgLuhqh6n46JsV1tjM>https://code.earthengine.google.com/client-auth?scopes=https%3A//www.googleapis.com/auth/earthengine%20https%3A//www.googleapis.com/auth/devstorage.full_control&request_id=yZDEgbPbm3XBtGD2QOXIBDjo3EJDRaa8KmH0PWtfrZQ&tc=eL2AmpmdefPtEQcjlJ3V16_QjkjyiAshFQHMqtS6TuA&cc=9ks-B43yIpwlx74L-HJPP9Z-JdgLuhqh6n46JsV1tjM</a></p>\n        <p>The authorization workflow will generate a code, which you should paste in the box below.</p>\n        "
     },
     "metadata": {},
     "output_type": "display_data"
    },
    {
     "name": "stdout",
     "output_type": "stream",
     "text": [
      "\n",
      "Successfully saved authorization token.\n"
     ]
    }
   ]
  },
  {
   "cell_type": "markdown",
   "source": [
    "An Example run"
   ],
   "metadata": {
    "id": "a8Ut7B4yMJsN"
   }
  },
  {
   "cell_type": "code",
   "source": [
    "img = ee.Image('LANDSAT/LT05/C01/T1_SR/LT05_034033_20000913')\n",
    "print(img.getInfo())"
   ],
   "metadata": {
    "colab": {
     "base_uri": "https://localhost:8080/"
    },
    "id": "_tqAyCqHLjzQ",
    "outputId": "6bb52198-b58d-4609-87ff-ab8cce39b50b"
   },
   "execution_count": null,
   "outputs": []
  }
 ]
}
