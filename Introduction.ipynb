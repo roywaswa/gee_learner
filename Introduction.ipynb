{
  "nbformat": 4,
  "nbformat_minor": 0,
  "metadata": {
    "colab": {
      "provenance": [],
      "authorship_tag": "ABX9TyNgnziT250B4XZDe+sIapv8",
      "include_colab_link": true
    },
    "kernelspec": {
      "name": "python3",
      "display_name": "Python 3"
    },
    "language_info": {
      "name": "python"
    }
  },
  "cells": [
    {
      "cell_type": "markdown",
      "metadata": {
        "id": "view-in-github",
        "colab_type": "text"
      },
      "source": [
        "<a href=\"https://colab.research.google.com/github/roywaswa/gee_learner/blob/main/Introduction.ipynb\" target=\"_parent\"><img src=\"https://colab.research.google.com/assets/colab-badge.svg\" alt=\"Open In Colab\"/></a>"
      ]
    },
    {
      "cell_type": "code",
      "source": [
        "import ee\n",
        "import folium"
      ],
      "metadata": {
        "id": "ctENF8SYSsh3"
      },
      "execution_count": 1,
      "outputs": []
    },
    {
      "cell_type": "code",
      "source": [
        "ee.Authenticate()\n",
        "ee.Initialize()"
      ],
      "metadata": {
        "id": "13OJmBZYSvAy"
      },
      "execution_count": null,
      "outputs": []
    },
    {
      "cell_type": "code",
      "source": [
        "landcover = ee.ImageCollection('MODIS/006/MCD12Q1')\n",
        "land_surface_temp = ee.ImageCollection('MODIS/006/MOD11A1')\n",
        "elevation = ee.Image('USGS/SRTMGL1_003')"
      ],
      "metadata": {
        "id": "79DJ59rATKqh"
      },
      "execution_count": 4,
      "outputs": []
    }
  ]
}